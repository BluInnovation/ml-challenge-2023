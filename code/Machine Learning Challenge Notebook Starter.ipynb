{
 "cells": [
  {
   "cell_type": "markdown",
   "id": "dc3417b8",
   "metadata": {},
   "source": [
    "Problem Statement\n",
    "\n",
    "This challenge aims to use time series injection information and monitoring data on a carbon capture well to predict carbon capture well injection rates deltas. Correlating the change in injection rate to the behavior of other parameters in the well can be used to provide a checkpoint against carbon migration from the well or other losses during the process.  The code developed to predict injection rate deltas based on monitoring well data can be used to validate carbon containment throughout the injection of the well. "
   ]
  },
  {
   "cell_type": "code",
   "execution_count": null,
   "id": "e7bcc5d2",
   "metadata": {},
   "outputs": [],
   "source": [
    "# Using AI to Validate Carbon Containment in the Illinois Basin\n",
    "\n",
    "## Importing Libraries\n",
    "\n",
    "### First, we will import the necessary Python libraries, such as pandas, numpy, and scikit-learn.\n",
    "\n",
    "import pandas as pd\n",
    "import numpy as np\n",
    "from sklearn.preprocessing import StandardScaler\n",
    "from sklearn.model_selection import train_test_split\n"
   ]
  },
  {
   "cell_type": "markdown",
   "id": "5bddaf68",
   "metadata": {},
   "source": [
    "Loading and Preprocessing Data\n",
    "\n",
    "Load the dataset and perform some basic preprocessing steps. This includes removing any missing values, converting categorical variables into one-hot encoded format, and scaling the data using StandardScaler.    "
   ]
  },
  {
   "cell_type": "code",
   "execution_count": null,
   "id": "7f672ee0",
   "metadata": {},
   "outputs": [],
   "source": [
    "# Load the dataset\n",
    "data = pd.read_csv('dataset.csv')\n",
    "\n",
    "# Drop any rows with missing values\n",
    "data.dropna(inplace=True)\n",
    "\n",
    "# Convert categorical variables into one-hot encoded format\n",
    "data = pd.get_dummies(data, columns=['categorical_var1', 'categorical_var2'])\n",
    "\n"
   ]
  },
  {
   "cell_type": "markdown",
   "id": "e33c33b2",
   "metadata": {},
   "source": [
    "Exploratory Data Analysis\n",
    "\n",
    "Explore the data to gain insights into its structure and characteristics. Generate visualizations to help identify any patterns or trends in the data."
   ]
  },
  {
   "cell_type": "code",
   "execution_count": null,
   "id": "d8a4bd27",
   "metadata": {},
   "outputs": [],
   "source": [
    "import matplotlib.pyplot as plt\n",
    "\n",
    "# Generate histograms of each feature\n",
    "data.hist(bins=20, figsize=(20, 20))\n",
    "plt.show()\n",
    "\n",
    "# Generate a scatter plot of features\n",
    "plt.scatter(data['feature1'], data['feature2'])\n",
    "plt.xlabel('Feature 1')\n",
    "plt.ylabel('Feature 2')\n",
    "plt.show()\n"
   ]
  },
  {
   "cell_type": "markdown",
   "id": "cccdda28",
   "metadata": {},
   "source": [
    "Feature Selection\n",
    "\n",
    "Use correlation analysis to identify the most important features for the machine learning model. This will help to improve the accuracy of predictions and reduce the risk of overfitting"
   ]
  },
  {
   "cell_type": "code",
   "execution_count": null,
   "id": "c2d0d65e",
   "metadata": {},
   "outputs": [],
   "source": [
    "# Compute correlation matrix\n",
    "corr_matrix = data.corr()\n",
    "\n",
    "# Generate heatmap of correlation matrix\n",
    "import seaborn as sns\n",
    "sns.heatmap(corr_matrix)\n",
    "plt.show()\n",
    "\n",
    "# Select the most correlated features\n",
    "corr_threshold = 0.5\n",
    "corr_pairs = np.where(np.abs(corr_matrix) > corr_threshold)\n",
    "corr_pairs = [(corr_matrix.iloc[i, j], i, j) for i, j in zip(*corr_pairs) if i != j and i < j]\n",
    "corr_pairs.sort(reverse=True)\n"
   ]
  },
  {
   "cell_type": "markdown",
   "id": "556a6626",
   "metadata": {},
   "source": [
    "Model Development\n",
    "\n",
    "Split the data using the preprocessed data. Split the dataset into training and testing sets. This will allow to evaluate the performance of the machine learning model on unseen data."
   ]
  },
  {
   "cell_type": "code",
   "execution_count": null,
   "id": "05e6a12b",
   "metadata": {},
   "outputs": [],
   "source": [
    "# Split data into training and testing sets\n",
    "X_train, X_test, y_train, y_test = train_test_split(data[data.columns[:-1]], data['target'], test_size=0.2, random_state=42)\n",
    "\n",
    "# Scale the data\n",
    "scaler = StandardScaler()\n",
    "X_train_scaled = scaler.fit_transform(X_train)\n",
    "X_test_scaled = scaler.transform(X_test)\n"
   ]
  },
  {
   "cell_type": "markdown",
   "id": "4272bb54",
   "metadata": {},
   "source": [
    "Model Selection and Tuning\n",
    "\n",
    "Experiment different machine learning algorithms, such as logistic regression, decision trees, and random forests, and tune the hyperparameters of each model to find the best combination for the task at hand."
   ]
  },
  {
   "cell_type": "code",
   "execution_count": null,
   "id": "bef1993e",
   "metadata": {},
   "outputs": [],
   "source": [
    "from sklearn.linear_model import LogisticRegression\n",
    "from sklearn.tree import DecisionTreeClassifier\n",
    "from sklearn.ensemble import RandomForestClassifier\n",
    "from sklearn.metrics import accuracy_score\n",
    "\n",
    "# Define the model\n",
    "model = LogisticRegression()\n",
    "model.fit(X_train_scaled, y_train)\n",
    "\n",
    "# Evaluate the model on the test set\n",
    "y_pred = model.predict(X_test_scaled)\n",
    "test_accuracy = accuracy_score(y_test, y_pred)\n",
    "print(\"Test accuracy: \", test_accuracy)\n",
    "\n",
    "# Define hyperparameters to tune\n",
    "param_grid = {'C': [0.001, 0.01, 0.1, 1, 10, 100], 'penalty': ['l1', 'l2', 'elasticnet'], 'solver': ['lbfgs', 'liblinear', 'saga']}\n",
    "\n",
    "# Define grid search\n",
    "grid = GridSearchCV(model, param_grid, cv=5, n_jobs=-1)\n",
    "\n",
    "# Fit the grid search\n",
    "grid.fit(X_train_scaled, y_train)\n",
    "\n",
    "# Print best hyperparameters\n",
    "print(\"Best hyperparameters:\", grid.best_params_)\n",
    "\n",
    "# Retrain the model with best hyperparameters\n",
    "model_tuned = LogisticRegression(C=10, penalty='l2', solver='liblinear')\n",
    "model_tuned.fit(X_train_scaled, y_train)\n",
    "\n",
    "# Make predictions on testing set\n",
    "y_pred_tuned = logreg_tuned.predict(X_test_scaled)\n",
    "\n",
    "# Calculate accuracy\n",
    "accuracy_tuned = accuracy_score(y_test, y_pred_tuned)\n",
    "print(\"Tuned Accuracy:\", accuracy_tuned)\n"
   ]
  },
  {
   "cell_type": "markdown",
   "id": "b7173a49",
   "metadata": {},
   "source": [
    "Submission\n",
    "\n",
    "Once the machine learning model is developed and evaluated, contestants submit the ML code to an SPEMLChallenge@gmail.com.  The results are submitted to the XEEK.org platform for preliminary scoring.   "
   ]
  }
 ],
 "metadata": {
  "kernelspec": {
   "display_name": "Python 3 (ipykernel)",
   "language": "python",
   "name": "python3"
  },
  "language_info": {
   "codemirror_mode": {
    "name": "ipython",
    "version": 3
   },
   "file_extension": ".py",
   "mimetype": "text/x-python",
   "name": "python",
   "nbconvert_exporter": "python",
   "pygments_lexer": "ipython3",
   "version": "3.9.12"
  }
 },
 "nbformat": 4,
 "nbformat_minor": 5
}
